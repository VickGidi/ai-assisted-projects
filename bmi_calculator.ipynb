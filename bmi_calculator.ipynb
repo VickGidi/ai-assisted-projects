{
  "nbformat": 4,
  "nbformat_minor": 0,
  "metadata": {
    "colab": {
      "provenance": []
    },
    "kernelspec": {
      "name": "python3",
      "display_name": "Python 3"
    },
    "language_info": {
      "name": "python"
    }
  },
  "cells": [
    {
      "cell_type": "code",
      "execution_count": null,
      "metadata": {
        "colab": {
          "base_uri": "https://localhost:8080/"
        },
        "id": "zCUQVHO44F0M",
        "outputId": "b80e3aef-e0c8-4dd0-927e-9f252bb6476d"
      },
      "outputs": [
        {
          "output_type": "stream",
          "name": "stdout",
          "text": [
            "Welcome to the BMI Calculator!\n",
            "Enter your weight in kilograms (kg): 56\n",
            "Enter your height in meters (m): 1.83\n",
            "\n",
            "Your BMI is: 16.72\n",
            "BMI Category: Underweight\n"
          ]
        }
      ],
      "source": [
        "def calculate_bmi(weight, height):\n",
        "    \"\"\"Calculate BMI using the formula: weight / (height^2).\"\"\"\n",
        "    return round(weight / (height ** 2), 2)\n",
        "\n",
        "\n",
        "def get_bmi_category(bmi):\n",
        "    \"\"\"Determine BMI category based on standard thresholds.\"\"\"\n",
        "    if bmi < 18.5:\n",
        "        return \"Underweight\"\n",
        "    elif 18.5 <= bmi < 25:\n",
        "        return \"Normal weight\"\n",
        "    elif 25 <= bmi < 30:\n",
        "        return \"Overweight\"\n",
        "    else:\n",
        "        return \"Obese\"\n",
        "\n",
        "\n",
        "def main():\n",
        "    print(\"Welcome to the BMI Calculator!\")\n",
        "\n",
        "    try:\n",
        "        # Get user input and convert to float\n",
        "        weight = float(input(\"Enter your weight in kilograms (kg): \"))\n",
        "        height = float(input(\"Enter your height in meters (m): \"))\n",
        "\n",
        "        if weight <= 0 or height <= 0:\n",
        "            print(\"Weight and height must be positive numbers.\")\n",
        "            return\n",
        "\n",
        "        # Calculate BMI\n",
        "        bmi = calculate_bmi(weight, height)\n",
        "        category = get_bmi_category(bmi)\n",
        "\n",
        "        # Output results\n",
        "        print(f\"\\nYour BMI is: {bmi}\")\n",
        "        print(f\"BMI Category: {category}\")\n",
        "\n",
        "    except ValueError:\n",
        "        print(\"Invalid input. Please enter numeric values for weight and height.\")\n",
        "\n",
        "\n",
        "# Run the program\n",
        "if __name__ == \"__main__\":\n",
        "    main()"
      ]
    }
  ]
}